{
 "cells": [
  {
   "cell_type": "markdown",
   "source": [
    "# Walkthrough 3 - Chatting with your own data\n",
    "\n",
    "During the 30 days, a number of people have indicated that the LLMs do not understand their context "
   ],
   "metadata": {
    "collapsed": false
   },
   "id": "9642d6592b9cf015"
  },
  {
   "cell_type": "code",
   "execution_count": null,
   "id": "initial_id",
   "metadata": {
    "collapsed": true
   },
   "outputs": [],
   "source": []
  }
 ],
 "metadata": {
  "kernelspec": {
   "display_name": "Python 3",
   "language": "python",
   "name": "python3"
  },
  "language_info": {
   "codemirror_mode": {
    "name": "ipython",
    "version": 2
   },
   "file_extension": ".py",
   "mimetype": "text/x-python",
   "name": "python",
   "nbconvert_exporter": "python",
   "pygments_lexer": "ipython2",
   "version": "2.7.6"
  }
 },
 "nbformat": 4,
 "nbformat_minor": 5
}
