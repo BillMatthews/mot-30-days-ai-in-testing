{
 "cells": [
  {
   "cell_type": "markdown",
   "source": [
    "# Walkthrough 2 - Detecting Similarity\n",
    "\n",
    "Checking for the similarity between two (or more) pieces of textual input is useful, for example:\n",
    "* When we explored AI for Defect Management, one use case could be to automate the process of checking for duplicates.\n",
    "* When we looked at Self-Healing Tests, one of the ways that UI Locators are healed is by looking for locators that are similar to the one that is no longer working.\n",
    "\n",
    "We could achieve this by computing how much the two inputs overlap (e.g. the number of words that overlap between the two) but this ignores words that are different but have semantically similar or closely related in terms of context. We can't account for these by comparing individual words.\n",
    "\n",
    "In modern Natural Language Processing (the part of AI that deals with natural language) an idea called semantic embeddings can be used to solve this (to some extent). The idea is that we represent words as a set of numbers that are like co-ordinates on a graph or map, but we place them such that words that are closely related are represented by points that are close together on the graph/map. Words that are not related are further apart.\n",
    "\n",
    "Given this representation of a word (or sentence) we can measure the distance between the points to give a measure of similarity and relatedness. While not perfect, it can certainly provide a recommendation of possible duplicates or ranking for similar inputs.\n",
    "\n",
    "In this walkthrough we will show how we can use HuggingFace models to perform similarity scoring using modern Transformers (as used in Large Language Models).\n",
    "\n",
    "> For this walkthrough, you do not need to write any code. The code presented here is complete and designed to show we could integrate AI models. If you want to learn more about the coding aspect of integrating AI models then I would suggest you start with the HuggingFace NLP Course.\n",
    "\n"
   ],
   "metadata": {
    "collapsed": false
   },
   "id": "b4342f3cf80915dc"
  },
  {
   "cell_type": "markdown",
   "source": [
    "## Resources\n",
    "\n",
    "| Link                                                                                                                              | Description                      |\n",
    "|-----------------------------------------------------------------------------------------------------------------------------------|----------------------------------|\n",
    "| https://towardsdatascience.com/cosine-similarity-how-does-it-measure-the-similarity-maths-behind-and-usage-in-python-50ad30aad7db | Description of Cosine Similarity |\n",
    "|https://towardsdatascience.com/understanding-nlp-word-embeddings-text-vectorization-1a23744f7223| A reasonably accessible introduction to Word Embeddings |\n",
    "| https://huggingface.co/models| Link to the HuggingFace Pre-trained Models Hub|\n",
    "| https://huggingface.co/learn/nlp-course            | A free course provided by HuggingFace that gets you up to speed with Natural Language Processing using the HuggingFace library (requires Python knowledge |\n"
   ],
   "metadata": {
    "collapsed": false
   },
   "id": "2c3a7edc0ef3c0df"
  },
  {
   "cell_type": "markdown",
   "source": [
    "First we need to install some dependencies"
   ],
   "metadata": {
    "collapsed": false
   },
   "id": "dbeb0ac6028ecbd1"
  },
  {
   "cell_type": "code",
   "outputs": [],
   "source": [
    "!pip install sentence-transformers"
   ],
   "metadata": {
    "collapsed": false
   },
   "id": "73536047ad76c033"
  },
  {
   "cell_type": "markdown",
   "source": [
    "Here we are going to use the HuggingFace Sentence Transformer model to compare the similarity between two pieces of text.\n"
   ],
   "metadata": {
    "collapsed": false
   },
   "id": "281715b3a5447b63"
  },
  {
   "cell_type": "code",
   "outputs": [],
   "source": [
    "from sentence_transformers import SentenceTransformer, util\n",
    "\n",
    "class SimilarityChecker:\n",
    "    \"\"\"\n",
    "    Class that encapsulates a Sentence-Transformer model to perform semantic similarity on two sentences.\n",
    "    We are using a HuggingFace Sentence Transformer for this task\n",
    "    \"\"\"\n",
    "    def __init__(self, model_name = \"sentence-transformers/all-MiniLM-L6-v2\"):\n",
    "        self.model = SentenceTransformer(model_name)\n",
    "    \n",
    "    def check_similarity(self, input_1, input_2, similarity_threshold=0.75):\n",
    "        embedding_1= self.model.encode(input_1, convert_to_tensor=True)\n",
    "        embedding_2 = self.model.encode(input_2, convert_to_tensor=True)\n",
    "        # Compute the similarity between them (we are using Cosine similarity \n",
    "        similarity = util.pytorch_cos_sim(embedding_1, embedding_2).item()\n",
    "        if similarity > similarity_threshold:\n",
    "            return {\"similar\": True, \"score\": similarity}\n",
    "        else:\n",
    "            return {\"similar\": False, \"score\": similarity}\n",
    "        \n",
    "# Create an instance of the checker\n",
    "sim_checker = SimilarityChecker()"
   ],
   "metadata": {
    "collapsed": false,
    "ExecuteTime": {
     "end_time": "2024-03-25T15:55:33.718541Z",
     "start_time": "2024-03-25T15:55:32.650407Z"
    }
   },
   "id": "66fd309361a8ebb8",
   "execution_count": 9
  },
  {
   "cell_type": "markdown",
   "source": [
    "Now let's try some comparisons\n",
    "\n",
    "Feel free to change the values for *text_1* and *text_2* to understand how good the checker is at detecting similar text.\n",
    "You can also change the *match_threshold* to a value between 0.0 and 1.0 to see how that improves or degrades the performance."
   ],
   "metadata": {
    "collapsed": false
   },
   "id": "181c477f1193509f"
  },
  {
   "cell_type": "code",
   "outputs": [
    {
     "name": "stdout",
     "output_type": "stream",
     "text": [
      "{'similar': True, 'score': 0.4181157648563385}\n"
     ]
    }
   ],
   "source": [
    "\n",
    "\n",
    "text_1 = \"When I try to log in using an admin account the Admin menu does not exist\"\n",
    "text_2 = \"I can access the admin pages using a direct URL\"\n",
    "match_threshold = 0.75\n",
    "\n",
    "print(sim_checker.check_similarity(text_1, text_2, match_threshold))"
   ],
   "metadata": {
    "collapsed": false,
    "ExecuteTime": {
     "end_time": "2024-03-25T15:57:13.251389Z",
     "start_time": "2024-03-25T15:57:13.201788Z"
    }
   },
   "id": "8700d2670cbc327e",
   "execution_count": 14
  },
  {
   "cell_type": "code",
   "outputs": [],
   "source": [],
   "metadata": {
    "collapsed": false
   },
   "id": "c5ca5761b6dadd6d"
  }
 ],
 "metadata": {
  "kernelspec": {
   "display_name": "Python 3",
   "language": "python",
   "name": "python3"
  },
  "language_info": {
   "codemirror_mode": {
    "name": "ipython",
    "version": 2
   },
   "file_extension": ".py",
   "mimetype": "text/x-python",
   "name": "python",
   "nbconvert_exporter": "python",
   "pygments_lexer": "ipython2",
   "version": "2.7.6"
  }
 },
 "nbformat": 4,
 "nbformat_minor": 5
}
