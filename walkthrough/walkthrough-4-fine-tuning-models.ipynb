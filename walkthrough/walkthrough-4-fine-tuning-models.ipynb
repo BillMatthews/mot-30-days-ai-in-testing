{
 "cells": [
  {
   "cell_type": "markdown",
   "source": [
    "# Walkthrough 4: Fine-Tuning Models for better performance\n",
    "\n",
    "During our earlier challenge days, some testers reported that the AI Tools they used performed poorly (or at least unsatisfactory) on some tasks. \n",
    "We could improve the performance to some degree using Prompt Engineering, and if you completed Walkthrough 3, you will have also seen how we could use Retrieval Augmented Generation to improve performance.\n",
    "\n",
    "However, we have another option to improve the performance and that is referred to as Fine-Tuning; this involves taking a model that has already been trained on some data and then subjecting it to some additional training using new data that is specific to a task that you want the model to improve on.\n",
    "\n",
    "\n",
    "\n",
    "\n"
   ],
   "metadata": {
    "collapsed": false
   },
   "id": "68c403657514e8e3"
  },
  {
   "cell_type": "markdown",
   "source": [
    "## Resouces\n",
    "\n",
    "|Link|Description|\n",
    "|https://www.linkedin.com/pulse/executives-guide-fine-tuning-large-language-models-value-huczynski-rlibf/| An executive summary of Fine-Tuning|"
   ],
   "metadata": {
    "collapsed": false
   },
   "id": "5e809dfef6e6963d"
  },
  {
   "cell_type": "code",
   "execution_count": null,
   "id": "initial_id",
   "metadata": {
    "collapsed": true
   },
   "outputs": [],
   "source": [
    "# Wal"
   ]
  },
  {
   "cell_type": "markdown",
   "source": [],
   "metadata": {
    "collapsed": false
   },
   "id": "956b900c84dd935b"
  }
 ],
 "metadata": {
  "kernelspec": {
   "display_name": "Python 3",
   "language": "python",
   "name": "python3"
  },
  "language_info": {
   "codemirror_mode": {
    "name": "ipython",
    "version": 2
   },
   "file_extension": ".py",
   "mimetype": "text/x-python",
   "name": "python",
   "nbconvert_exporter": "python",
   "pygments_lexer": "ipython2",
   "version": "2.7.6"
  }
 },
 "nbformat": 4,
 "nbformat_minor": 5
}
